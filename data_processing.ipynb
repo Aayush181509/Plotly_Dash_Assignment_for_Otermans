{
 "cells": [
  {
   "cell_type": "markdown",
   "id": "4a07ccf3",
   "metadata": {},
   "source": [
    "# Data Preprocessing"
   ]
  },
  {
   "cell_type": "markdown",
   "id": "fc7bc482",
   "metadata": {},
   "source": [
    "Converting data in json format to csv format"
   ]
  },
  {
   "cell_type": "code",
   "execution_count": 1,
   "id": "66360273",
   "metadata": {},
   "outputs": [],
   "source": [
    "import pandas as pd\n",
    "import json\n",
    "import csv"
   ]
  },
  {
   "cell_type": "code",
   "execution_count": 2,
   "id": "ff9ca550",
   "metadata": {},
   "outputs": [],
   "source": [
    "with open(\"data/Otermans_export.json\") as file:\n",
    "    data=json.load(file)"
   ]
  },
  {
   "cell_type": "code",
   "execution_count": 4,
   "id": "272739fa",
   "metadata": {},
   "outputs": [
    {
     "data": {
      "text/html": [
       "<div>\n",
       "<style scoped>\n",
       "    .dataframe tbody tr th:only-of-type {\n",
       "        vertical-align: middle;\n",
       "    }\n",
       "\n",
       "    .dataframe tbody tr th {\n",
       "        vertical-align: top;\n",
       "    }\n",
       "\n",
       "    .dataframe thead th {\n",
       "        text-align: right;\n",
       "    }\n",
       "</style>\n",
       "<table border=\"1\" class=\"dataframe\">\n",
       "  <thead>\n",
       "    <tr style=\"text-align: right;\">\n",
       "      <th></th>\n",
       "      <th>IDC</th>\n",
       "      <th>users</th>\n",
       "      <th>version</th>\n",
       "    </tr>\n",
       "  </thead>\n",
       "  <tbody>\n",
       "    <tr>\n",
       "      <th>krizia86744776</th>\n",
       "      <td>{'11-23-2022 10:24:42 PM': {'dateTime': '11/23...</td>\n",
       "      <td>NaN</td>\n",
       "      <td>0.1</td>\n",
       "    </tr>\n",
       "    <tr>\n",
       "      <th>peri  peri98263724</th>\n",
       "      <td>{'08-11-2022 14:57:43': {'dateTime': '08/11/20...</td>\n",
       "      <td>NaN</td>\n",
       "      <td>0.1</td>\n",
       "    </tr>\n",
       "  </tbody>\n",
       "</table>\n",
       "</div>"
      ],
      "text/plain": [
       "                                                                  IDC users  \\\n",
       "krizia86744776      {'11-23-2022 10:24:42 PM': {'dateTime': '11/23...   NaN   \n",
       "peri  peri98263724  {'08-11-2022 14:57:43': {'dateTime': '08/11/20...   NaN   \n",
       "\n",
       "                    version  \n",
       "krizia86744776          0.1  \n",
       "peri  peri98263724      0.1  "
      ]
     },
     "execution_count": 4,
     "metadata": {},
     "output_type": "execute_result"
    }
   ],
   "source": [
    "df=pd.DataFrame(data)\n",
    "df.head(2)"
   ]
  },
  {
   "cell_type": "code",
   "execution_count": 8,
   "id": "c5fd38a8",
   "metadata": {},
   "outputs": [],
   "source": [
    "my_list_for_IDC=[]\n",
    "for i in data['IDC'].values():\n",
    "    for j in i.values():\n",
    "        my_list_for_IDC.append(j)\n"
   ]
  },
  {
   "cell_type": "code",
   "execution_count": 10,
   "id": "bf8cace7",
   "metadata": {},
   "outputs": [
    {
     "data": {
      "text/plain": [
       "{'dateTime': '11/23/2022 10:24:42 PM',\n",
       " 'name': 'krizia',\n",
       " 'personalRecords': {'CC': 2, 'EA': 3, 'TCA': 3, 'TQA': 3},\n",
       " 'timeSpent': {'timeAI': '',\n",
       "  'timeHomeScreen': '36.77s',\n",
       "  'timeLesson': '',\n",
       "  'timeMaps': '',\n",
       "  'timeQuiz': '',\n",
       "  'timeRewardPage': '',\n",
       "  'timeStore': ''},\n",
       " 'userId': 'krizia86744776'}"
      ]
     },
     "execution_count": 10,
     "metadata": {},
     "output_type": "execute_result"
    }
   ],
   "source": [
    "my_list_for_IDC[0]"
   ]
  },
  {
   "cell_type": "code",
   "execution_count": 12,
   "id": "72292fb1",
   "metadata": {},
   "outputs": [
    {
     "data": {
      "text/html": [
       "<div>\n",
       "<style scoped>\n",
       "    .dataframe tbody tr th:only-of-type {\n",
       "        vertical-align: middle;\n",
       "    }\n",
       "\n",
       "    .dataframe tbody tr th {\n",
       "        vertical-align: top;\n",
       "    }\n",
       "\n",
       "    .dataframe thead th {\n",
       "        text-align: right;\n",
       "    }\n",
       "</style>\n",
       "<table border=\"1\" class=\"dataframe\">\n",
       "  <thead>\n",
       "    <tr style=\"text-align: right;\">\n",
       "      <th></th>\n",
       "      <th>dateTime</th>\n",
       "      <th>name</th>\n",
       "      <th>personalRecords</th>\n",
       "      <th>timeSpent</th>\n",
       "      <th>userId</th>\n",
       "      <th>questionsData</th>\n",
       "    </tr>\n",
       "  </thead>\n",
       "  <tbody>\n",
       "    <tr>\n",
       "      <th>0</th>\n",
       "      <td>11/23/2022 10:24:42 PM</td>\n",
       "      <td>krizia</td>\n",
       "      <td>{'CC': 2, 'EA': 3, 'TCA': 3, 'TQA': 3}</td>\n",
       "      <td>{'timeAI': '', 'timeHomeScreen': '36.77s', 'ti...</td>\n",
       "      <td>krizia86744776</td>\n",
       "      <td>NaN</td>\n",
       "    </tr>\n",
       "    <tr>\n",
       "      <th>1</th>\n",
       "      <td>11/23/2022 10:59:40 PM</td>\n",
       "      <td>krizia</td>\n",
       "      <td>{'CC': 7, 'EA': 0, 'TCA': 7, 'TQA': 7}</td>\n",
       "      <td>{'timeAI': '', 'timeHomeScreen': '65.52s', 'ti...</td>\n",
       "      <td>krizia86744776</td>\n",
       "      <td>NaN</td>\n",
       "    </tr>\n",
       "    <tr>\n",
       "      <th>2</th>\n",
       "      <td>11/23/2022 2:51:27 PM</td>\n",
       "      <td>krizia</td>\n",
       "      <td>{'CC': 2, 'EA': 1, 'TCA': 5, 'TQA': 5}</td>\n",
       "      <td>{'timeAI': '3.38s', 'timeHomeScreen': '148.70s...</td>\n",
       "      <td>krizia86744776</td>\n",
       "      <td>[{'courseTitle': 'Alphabet', 'errorAttempts': ...</td>\n",
       "    </tr>\n",
       "  </tbody>\n",
       "</table>\n",
       "</div>"
      ],
      "text/plain": [
       "                 dateTime    name                         personalRecords  \\\n",
       "0  11/23/2022 10:24:42 PM  krizia  {'CC': 2, 'EA': 3, 'TCA': 3, 'TQA': 3}   \n",
       "1  11/23/2022 10:59:40 PM  krizia  {'CC': 7, 'EA': 0, 'TCA': 7, 'TQA': 7}   \n",
       "2   11/23/2022 2:51:27 PM  krizia  {'CC': 2, 'EA': 1, 'TCA': 5, 'TQA': 5}   \n",
       "\n",
       "                                           timeSpent          userId  \\\n",
       "0  {'timeAI': '', 'timeHomeScreen': '36.77s', 'ti...  krizia86744776   \n",
       "1  {'timeAI': '', 'timeHomeScreen': '65.52s', 'ti...  krizia86744776   \n",
       "2  {'timeAI': '3.38s', 'timeHomeScreen': '148.70s...  krizia86744776   \n",
       "\n",
       "                                       questionsData  \n",
       "0                                                NaN  \n",
       "1                                                NaN  \n",
       "2  [{'courseTitle': 'Alphabet', 'errorAttempts': ...  "
      ]
     },
     "execution_count": 12,
     "metadata": {},
     "output_type": "execute_result"
    }
   ],
   "source": [
    "new_df=pd.DataFrame(my_list_for_IDC)\n",
    "new_df.head(3)"
   ]
  },
  {
   "cell_type": "code",
   "execution_count": null,
   "id": "2460e417",
   "metadata": {},
   "outputs": [],
   "source": []
  }
 ],
 "metadata": {
  "kernelspec": {
   "display_name": "Python 3 (ipykernel)",
   "language": "python",
   "name": "python3"
  },
  "language_info": {
   "codemirror_mode": {
    "name": "ipython",
    "version": 3
   },
   "file_extension": ".py",
   "mimetype": "text/x-python",
   "name": "python",
   "nbconvert_exporter": "python",
   "pygments_lexer": "ipython3",
   "version": "3.9.13"
  }
 },
 "nbformat": 4,
 "nbformat_minor": 5
}
